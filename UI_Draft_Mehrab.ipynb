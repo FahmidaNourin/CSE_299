{
 "cells": [
  {
   "cell_type": "code",
   "execution_count": 1,
   "metadata": {},
   "outputs": [],
   "source": [
    "from csv import *\n",
    "from tkinter import *\n",
    "from tkinter import messagebox"
   ]
  },
  {
   "cell_type": "code",
   "execution_count": 2,
   "metadata": {},
   "outputs": [],
   "source": [
    "window = Tk()\n",
    "window.title(\"Data entry\")\n",
    "main_lst=[]"
   ]
  },
  {
   "cell_type": "code",
   "execution_count": 3,
   "metadata": {},
   "outputs": [],
   "source": [
    "def Add():\n",
    "    lst=[name.get(),age.get(),contact.get()]\n",
    "    main_lst.append(lst)\n",
    "    messagebox.showinfo(\"Information\",\"Data has been added successfully\")"
   ]
  },
  {
   "cell_type": "code",
   "execution_count": 4,
   "metadata": {},
   "outputs": [],
   "source": [
    "def Save():\n",
    "    with open(\"data_entry.csv\",\"w\") as file:\n",
    "        Writer = writer(file)\n",
    "        Writer.writerow([\"Name\",\"Age\",\"Contact\"])\n",
    "        Writer.writerows(main_lst)"
   ]
  },
  {
   "cell_type": "code",
   "execution_count": 5,
   "metadata": {},
   "outputs": [],
   "source": [
    "def Clear():\n",
    "    name.delete(0,END)\n",
    "    age.delete(0,END)\n",
    "    contact.delete(0,END)"
   ]
  },
  {
   "cell_type": "code",
   "execution_count": 6,
   "metadata": {},
   "outputs": [],
   "source": [
    "label1 = Label(window,text=\"Name: \",padx=20,pady=10)\n",
    "label2 = Label(window,text=\"Age: \",padx=20,pady=10)\n",
    "label3 = Label(window,text=\"Contact: \",padx=20,pady=10)\n",
    "\n",
    "name = Entry(window,width=30,borderwidth=5)\n",
    "age = Entry(window,width=30,borderwidth=5)\n",
    "contact = Entry(window,width=30,borderwidth=5)\n",
    "\n",
    "save = Button(window,text=\"Save\",padx=20,pady=10,command=Save)\n",
    "add = Button(window,text=\"Add\",padx=20,pady=10,command=Add)\n",
    "clear = Button(window,text=\"Clear\",padx=18,pady=10,command=Clear)\n",
    "Exit = Button(window,text=\"Exit\",padx=20,pady=10,command=window.quit)"
   ]
  },
  {
   "cell_type": "code",
   "execution_count": 7,
   "metadata": {},
   "outputs": [],
   "source": [
    "label1.grid(row=0,column=0)\n",
    "label2.grid(row=1,column=0)\n",
    "label3.grid(row=2,column=0)\n",
    "\n",
    "name.grid(row=0,column=1)\n",
    "age.grid(row=1,column=1)\n",
    "contact.grid(row=2,column=1)\n",
    "\n",
    "save.grid(row=4,column=0,columnspan=2)\n",
    "add.grid(row=3,column=0,columnspan=2)\n",
    "clear.grid(row=5,column=0,columnspan=2)\n",
    "Exit.grid(row=6,column=0,columnspan=2)"
   ]
  },
  {
   "cell_type": "code",
   "execution_count": 8,
   "metadata": {},
   "outputs": [],
   "source": [
    "window.mainloop()"
   ]
  },
  {
   "cell_type": "code",
   "execution_count": 9,
   "metadata": {},
   "outputs": [
    {
     "name": "stdout",
     "output_type": "stream",
     "text": [
      "[['Opee', '24', '01980101394']]\n"
     ]
    }
   ],
   "source": [
    "print(main_lst)"
   ]
  }
 ],
 "metadata": {
  "kernelspec": {
   "display_name": "my_venv",
   "language": "python",
   "name": "python3"
  },
  "language_info": {
   "codemirror_mode": {
    "name": "ipython",
    "version": 3
   },
   "file_extension": ".py",
   "mimetype": "text/x-python",
   "name": "python",
   "nbconvert_exporter": "python",
   "pygments_lexer": "ipython3",
   "version": "3.11.5"
  },
  "orig_nbformat": 4
 },
 "nbformat": 4,
 "nbformat_minor": 2
}
