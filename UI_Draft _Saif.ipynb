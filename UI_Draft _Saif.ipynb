{
 "cells": [
  {
   "cell_type": "code",
   "execution_count": null,
   "metadata": {},
   "outputs": [],
   "source": [
    "# Importing modules:\n",
    "\n",
    "from csv import *\n",
    "from tkinter import *\n",
    "from tkinter import messagebox\n",
    "\n",
    "# Class, Object :\n",
    "window = Tk()\n",
    "window.title(\"Data entry\")\n",
    "main_lst=[]\n",
    "\n",
    "# create data box :\n",
    "\n",
    "def Add():\n",
    "    lst=[name.get(),age.get(),contact.get()]\n",
    "    main_lst.append(lst)\n",
    "    messagebox.showinfo(\"Information\",\"Data has been added successfully\")\n",
    "def Save():\n",
    "    with open(\"data_entry.csv\",\"w\") as file:\n",
    "        Writer = writer(file)\n",
    "        Writer.writerow([\"Name\",\"Age\",\"Contact\"])\n",
    "        Writer.writerows(main_lst)\n",
    "def Clear():\n",
    "    name.delete(0,END)\n",
    "    age.delete(0,END)\n",
    "    contact.delete(0,END)\n",
    "label1 = Label(window,text=\"Name: \",padx=20,pady=10)\n",
    "label2 = Label(window,text=\"Age: \",padx=20,pady=10)\n",
    "label3 = Label(window,text=\"Contact: \",padx=20,pady=10)\n",
    "\n",
    "name = Entry(window,width=30,borderwidth=5)\n",
    "age = Entry(window,width=30,borderwidth=5)\n",
    "contact = Entry(window,width=30,borderwidth=5)\n",
    "\n",
    "save = Button(window,text=\"Save\",padx=20,pady=10,command=Save)\n",
    "add = Button(window,text=\"Add\",padx=20,pady=10,command=Add)\n",
    "clear = Button(window,text=\"Clear\",padx=18,pady=10,command=Clear)\n",
    "Exit = Button(window,text=\"Exit\",padx=20,pady=10,command=window.quit)\n",
    "label1.grid(row=0,column=0)\n",
    "label2.grid(row=1,column=0)\n",
    "label3.grid(row=2,column=0)\n",
    "\n",
    "name.grid(row=0,column=1)\n",
    "age.grid(row=1,column=1)\n",
    "contact.grid(row=2,column=1)\n",
    "\n",
    "save.grid(row=4,column=0,columnspan=2)\n",
    "add.grid(row=3,column=0,columnspan=2)\n",
    "clear.grid(row=5,column=0,columnspan=2)\n",
    "Exit.grid(row=6,column=0,columnspan=2)\n",
    "\n",
    "# Execute Everything:\n",
    "window.mainloop()\n",
    "print(main_lst)"
   ]
  }
 ],
 "metadata": {
  "kernelspec": {
   "display_name": "Python 3",
   "language": "python",
   "name": "python3"
  },
  "language_info": {
   "codemirror_mode": {
    "name": "ipython",
    "version": 3
   },
   "file_extension": ".py",
   "mimetype": "text/x-python",
   "name": "python",
   "nbconvert_exporter": "python",
   "pygments_lexer": "ipython3",
   "version": "3.11.5"
  },
  "orig_nbformat": 4
 },
 "nbformat": 4,
 "nbformat_minor": 2
}
